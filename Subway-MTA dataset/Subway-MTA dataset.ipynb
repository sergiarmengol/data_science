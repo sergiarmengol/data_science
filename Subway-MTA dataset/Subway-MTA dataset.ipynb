{
 "cells": [
  {
   "cell_type": "markdown",
   "metadata": {},
   "source": [
    "# Subway-MTA dataset"
   ]
  },
  {
   "cell_type": "code",
   "execution_count": 193,
   "metadata": {
    "collapsed": true
   },
   "outputs": [],
   "source": [
    "import numpy as np\n",
    "import pandas as pd\n",
    "import matplotlib.pyplot as plt\n",
    "import urllib.request\n",
    "import csv\n",
    "import datetime\n",
    "import scipy\n",
    "import scipy.stats"
   ]
  },
  {
   "cell_type": "code",
   "execution_count": 169,
   "metadata": {
    "collapsed": false
   },
   "outputs": [],
   "source": [
    "'''\n",
    "Urls is a list of MTA Subway turnstile text files. A link to an example\n",
    "MTA Subway turnstile text file\n",
    "'''\n",
    "urls =[\"http://web.mta.info/developers/data/nyct/turnstile/turnstile_110528.txt\",\"http://web.mta.info/developers/data/nyct/turnstile/turnstile_110604.txt\"]\n",
    "output_file = \"Subway-MTA.csv\"\n",
    "# Open files to save the csv requested\n",
    "with open(output_file,\"w\") as master_file :\n",
    "    writer = csv.writer(master_file)\n",
    "    writer.writerow(['C/A','UNIT','SCP','DATEn','TIMEn','DESCn','ENTRIESn','EXITSn'])\n",
    "    for url in urls :\n",
    "        # Read files and append to the output file\n",
    "        response = urllib.request.urlopen(url)\n",
    "        cr = csv.reader(response.read().decode('utf-8').splitlines())\n",
    "        step = 5\n",
    "        init = 3 \n",
    "        for k,row in enumerate(list(cr)):\n",
    "            for i in range(init,len(row),step) :\n",
    "                writer.writerow(row[0:init] + row[i:i+step])\n",
    "\n"
   ]
  },
  {
   "cell_type": "code",
   "execution_count": 170,
   "metadata": {
    "collapsed": false
   },
   "outputs": [
    {
     "data": {
      "text/plain": [
       "Index(['UNIT', 'SCP', 'DATEn', 'TIMEn', 'DESCn', 'ENTRIESn', 'EXITSn'], dtype='object')"
      ]
     },
     "execution_count": 170,
     "metadata": {},
     "output_type": "execute_result"
    }
   ],
   "source": [
    "# Open the file saved and create a dataframe\n",
    "df = pd.read_csv(\"Subway-MTA.csv\")\n",
    "# Drop first colum\n",
    "df.drop(df.columns[0], axis=1, inplace=True)\n",
    "# Columns dataframe\n",
    "df.columns"
   ]
  },
  {
   "cell_type": "code",
   "execution_count": 171,
   "metadata": {
    "collapsed": false
   },
   "outputs": [
    {
     "data": {
      "text/html": [
       "<div>\n",
       "<table border=\"1\" class=\"dataframe\">\n",
       "  <thead>\n",
       "    <tr style=\"text-align: right;\">\n",
       "      <th></th>\n",
       "      <th>UNIT</th>\n",
       "      <th>SCP</th>\n",
       "      <th>DATEn</th>\n",
       "      <th>TIMEn</th>\n",
       "      <th>DESCn</th>\n",
       "      <th>ENTRIESn</th>\n",
       "      <th>EXITSn</th>\n",
       "    </tr>\n",
       "  </thead>\n",
       "  <tbody>\n",
       "    <tr>\n",
       "      <th>0</th>\n",
       "      <td>R051</td>\n",
       "      <td>02-00-00</td>\n",
       "      <td>05-21-11</td>\n",
       "      <td>00:00:00</td>\n",
       "      <td>REGULAR</td>\n",
       "      <td>3169391</td>\n",
       "      <td>1097585</td>\n",
       "    </tr>\n",
       "    <tr>\n",
       "      <th>1</th>\n",
       "      <td>R051</td>\n",
       "      <td>02-00-00</td>\n",
       "      <td>05-21-11</td>\n",
       "      <td>04:00:00</td>\n",
       "      <td>REGULAR</td>\n",
       "      <td>3169415</td>\n",
       "      <td>1097588</td>\n",
       "    </tr>\n",
       "    <tr>\n",
       "      <th>2</th>\n",
       "      <td>R051</td>\n",
       "      <td>02-00-00</td>\n",
       "      <td>05-21-11</td>\n",
       "      <td>08:00:00</td>\n",
       "      <td>REGULAR</td>\n",
       "      <td>3169431</td>\n",
       "      <td>1097607</td>\n",
       "    </tr>\n",
       "    <tr>\n",
       "      <th>3</th>\n",
       "      <td>R051</td>\n",
       "      <td>02-00-00</td>\n",
       "      <td>05-21-11</td>\n",
       "      <td>12:00:00</td>\n",
       "      <td>REGULAR</td>\n",
       "      <td>3169506</td>\n",
       "      <td>1097686</td>\n",
       "    </tr>\n",
       "    <tr>\n",
       "      <th>4</th>\n",
       "      <td>R051</td>\n",
       "      <td>02-00-00</td>\n",
       "      <td>05-21-11</td>\n",
       "      <td>16:00:00</td>\n",
       "      <td>REGULAR</td>\n",
       "      <td>3169693</td>\n",
       "      <td>1097734</td>\n",
       "    </tr>\n",
       "  </tbody>\n",
       "</table>\n",
       "</div>"
      ],
      "text/plain": [
       "   UNIT       SCP     DATEn     TIMEn    DESCn  ENTRIESn   EXITSn\n",
       "0  R051  02-00-00  05-21-11  00:00:00  REGULAR   3169391  1097585\n",
       "1  R051  02-00-00  05-21-11  04:00:00  REGULAR   3169415  1097588\n",
       "2  R051  02-00-00  05-21-11  08:00:00  REGULAR   3169431  1097607\n",
       "3  R051  02-00-00  05-21-11  12:00:00  REGULAR   3169506  1097686\n",
       "4  R051  02-00-00  05-21-11  16:00:00  REGULAR   3169693  1097734"
      ]
     },
     "execution_count": 171,
     "metadata": {},
     "output_type": "execute_result"
    }
   ],
   "source": [
    "# 5 first rows\n",
    "df.head()"
   ]
  },
  {
   "cell_type": "markdown",
   "metadata": {},
   "source": [
    "## Wrangling Subway Data"
   ]
  },
  {
   "cell_type": "code",
   "execution_count": 172,
   "metadata": {
    "collapsed": false,
    "scrolled": true
   },
   "outputs": [],
   "source": [
    "'''\n",
    "    The data in the MTA Subway Turnstile data reports on the cumulative\n",
    "    number of entries and exits per row. Change\n",
    "    these cumulative entry numbers to a count of entries since the last reading\n",
    "    (i.e., entries since the last row in the dataframe).\n",
    "'''\n",
    "df['ENTRIESn_hourly'] = df['ENTRIESn'] - df['ENTRIESn'].shift(1)\n",
    "df['ENTRIESn_hourly'] = df['ENTRIESn_hourly'].fillna(1)"
   ]
  },
  {
   "cell_type": "code",
   "execution_count": 173,
   "metadata": {
    "collapsed": false
   },
   "outputs": [],
   "source": [
    "'''\n",
    "Change cumulative exit numbers to a count of exits since the last reading\n",
    "'''\n",
    "df['EXITSn_hourly'] = (df['EXITSn'] - df['EXITSn'].shift(1)).fillna(1)"
   ]
  },
  {
   "cell_type": "code",
   "execution_count": 174,
   "metadata": {
    "collapsed": false
   },
   "outputs": [],
   "source": [
    "def time_to_hour(time):\n",
    "    '''\n",
    "    Given an input variable time that represents time in the format of:\n",
    "    \"00:00:00\" (hour:minutes:seconds)\n",
    "    '''\n",
    "    \n",
    "    hour = int(time.split(':')[0])# your code here\n",
    "    \n",
    "        \n",
    "    return hour\n",
    "\n",
    "df['HOURn'] = df['TIMEn'].apply(time_to_hour)"
   ]
  },
  {
   "cell_type": "code",
   "execution_count": null,
   "metadata": {
    "collapsed": false
   },
   "outputs": [],
   "source": []
  },
  {
   "cell_type": "code",
   "execution_count": 175,
   "metadata": {
    "collapsed": false
   },
   "outputs": [],
   "source": [
    "def reformat_date(date) :\n",
    "    date = datetime.datetime.strptime(date,'%m-%d-%y')\n",
    "    date_formatted = datetime.datetime.strftime(date,'%Y-%m-%d')\n",
    "    return date_formatted\n",
    "\n",
    "df['DATEn'] = df['DATEn'].apply(reformat_date)"
   ]
  },
  {
   "cell_type": "code",
   "execution_count": 176,
   "metadata": {
    "collapsed": false
   },
   "outputs": [
    {
     "data": {
      "text/html": [
       "<div>\n",
       "<table border=\"1\" class=\"dataframe\">\n",
       "  <thead>\n",
       "    <tr style=\"text-align: right;\">\n",
       "      <th></th>\n",
       "      <th>UNIT</th>\n",
       "      <th>SCP</th>\n",
       "      <th>DATEn</th>\n",
       "      <th>TIMEn</th>\n",
       "      <th>DESCn</th>\n",
       "      <th>ENTRIESn</th>\n",
       "      <th>EXITSn</th>\n",
       "      <th>ENTRIESn_hourly</th>\n",
       "      <th>EXITSn_hourly</th>\n",
       "      <th>HOURn</th>\n",
       "    </tr>\n",
       "  </thead>\n",
       "  <tbody>\n",
       "    <tr>\n",
       "      <th>0</th>\n",
       "      <td>R051</td>\n",
       "      <td>02-00-00</td>\n",
       "      <td>2011-05-21</td>\n",
       "      <td>00:00:00</td>\n",
       "      <td>REGULAR</td>\n",
       "      <td>3169391</td>\n",
       "      <td>1097585</td>\n",
       "      <td>1.0</td>\n",
       "      <td>1.0</td>\n",
       "      <td>0</td>\n",
       "    </tr>\n",
       "    <tr>\n",
       "      <th>1</th>\n",
       "      <td>R051</td>\n",
       "      <td>02-00-00</td>\n",
       "      <td>2011-05-21</td>\n",
       "      <td>04:00:00</td>\n",
       "      <td>REGULAR</td>\n",
       "      <td>3169415</td>\n",
       "      <td>1097588</td>\n",
       "      <td>24.0</td>\n",
       "      <td>3.0</td>\n",
       "      <td>4</td>\n",
       "    </tr>\n",
       "    <tr>\n",
       "      <th>2</th>\n",
       "      <td>R051</td>\n",
       "      <td>02-00-00</td>\n",
       "      <td>2011-05-21</td>\n",
       "      <td>08:00:00</td>\n",
       "      <td>REGULAR</td>\n",
       "      <td>3169431</td>\n",
       "      <td>1097607</td>\n",
       "      <td>16.0</td>\n",
       "      <td>19.0</td>\n",
       "      <td>8</td>\n",
       "    </tr>\n",
       "    <tr>\n",
       "      <th>3</th>\n",
       "      <td>R051</td>\n",
       "      <td>02-00-00</td>\n",
       "      <td>2011-05-21</td>\n",
       "      <td>12:00:00</td>\n",
       "      <td>REGULAR</td>\n",
       "      <td>3169506</td>\n",
       "      <td>1097686</td>\n",
       "      <td>75.0</td>\n",
       "      <td>79.0</td>\n",
       "      <td>12</td>\n",
       "    </tr>\n",
       "    <tr>\n",
       "      <th>4</th>\n",
       "      <td>R051</td>\n",
       "      <td>02-00-00</td>\n",
       "      <td>2011-05-21</td>\n",
       "      <td>16:00:00</td>\n",
       "      <td>REGULAR</td>\n",
       "      <td>3169693</td>\n",
       "      <td>1097734</td>\n",
       "      <td>187.0</td>\n",
       "      <td>48.0</td>\n",
       "      <td>16</td>\n",
       "    </tr>\n",
       "  </tbody>\n",
       "</table>\n",
       "</div>"
      ],
      "text/plain": [
       "   UNIT       SCP       DATEn     TIMEn    DESCn  ENTRIESn   EXITSn  \\\n",
       "0  R051  02-00-00  2011-05-21  00:00:00  REGULAR   3169391  1097585   \n",
       "1  R051  02-00-00  2011-05-21  04:00:00  REGULAR   3169415  1097588   \n",
       "2  R051  02-00-00  2011-05-21  08:00:00  REGULAR   3169431  1097607   \n",
       "3  R051  02-00-00  2011-05-21  12:00:00  REGULAR   3169506  1097686   \n",
       "4  R051  02-00-00  2011-05-21  16:00:00  REGULAR   3169693  1097734   \n",
       "\n",
       "   ENTRIESn_hourly  EXITSn_hourly  HOURn  \n",
       "0              1.0            1.0      0  \n",
       "1             24.0            3.0      4  \n",
       "2             16.0           19.0      8  \n",
       "3             75.0           79.0     12  \n",
       "4            187.0           48.0     16  "
      ]
     },
     "execution_count": 176,
     "metadata": {},
     "output_type": "execute_result"
    }
   ],
   "source": [
    "df.head()"
   ]
  },
  {
   "cell_type": "markdown",
   "metadata": {},
   "source": [
    "## Analyzing Subway Data"
   ]
  },
  {
   "cell_type": "code",
   "execution_count": 184,
   "metadata": {
    "collapsed": false
   },
   "outputs": [],
   "source": [
    "# Getting Subway Data with more information to analyze\n",
    "turnstile_output_file = 'turnstile_data_master_with_weather.csv'\n",
    "with open(turnstile_output_file,'w') as turnstile_file:\n",
    "    turnstile_writer = csv.writer(turnstile_file)\n",
    "    turnstile_content = urllib.request.urlopen('https://s3.amazonaws.com/content.udacity-data.com/courses/ud359/turnstile_data_master_with_weather.csv') \n",
    "    turnstile_reader = list(csv.reader(turnstile_content.read().decode('utf-8').splitlines()))\n",
    "    for row in reader :\n",
    "        turnstile_writer.writerow(row)\n",
    "\n"
   ]
  },
  {
   "cell_type": "code",
   "execution_count": 189,
   "metadata": {
    "collapsed": false
   },
   "outputs": [
    {
     "data": {
      "text/html": [
       "<div>\n",
       "<table border=\"1\" class=\"dataframe\">\n",
       "  <thead>\n",
       "    <tr style=\"text-align: right;\">\n",
       "      <th></th>\n",
       "      <th>UNIT</th>\n",
       "      <th>DATEn</th>\n",
       "      <th>TIMEn</th>\n",
       "      <th>Hour</th>\n",
       "      <th>DESCn</th>\n",
       "      <th>ENTRIESn_hourly</th>\n",
       "      <th>EXITSn_hourly</th>\n",
       "      <th>maxpressurei</th>\n",
       "      <th>maxdewpti</th>\n",
       "      <th>mindewpti</th>\n",
       "      <th>...</th>\n",
       "      <th>meandewpti</th>\n",
       "      <th>meanpressurei</th>\n",
       "      <th>fog</th>\n",
       "      <th>rain</th>\n",
       "      <th>meanwindspdi</th>\n",
       "      <th>mintempi</th>\n",
       "      <th>meantempi</th>\n",
       "      <th>maxtempi</th>\n",
       "      <th>precipi</th>\n",
       "      <th>thunder</th>\n",
       "    </tr>\n",
       "  </thead>\n",
       "  <tbody>\n",
       "    <tr>\n",
       "      <th>0</th>\n",
       "      <td>R001</td>\n",
       "      <td>2011-05-01</td>\n",
       "      <td>01:00:00</td>\n",
       "      <td>1</td>\n",
       "      <td>REGULAR</td>\n",
       "      <td>0.0</td>\n",
       "      <td>0.0</td>\n",
       "      <td>30.31</td>\n",
       "      <td>42.0</td>\n",
       "      <td>35.0</td>\n",
       "      <td>...</td>\n",
       "      <td>39.0</td>\n",
       "      <td>30.27</td>\n",
       "      <td>0.0</td>\n",
       "      <td>0.0</td>\n",
       "      <td>5.0</td>\n",
       "      <td>50.0</td>\n",
       "      <td>60.0</td>\n",
       "      <td>69.0</td>\n",
       "      <td>0.0</td>\n",
       "      <td>0.0</td>\n",
       "    </tr>\n",
       "    <tr>\n",
       "      <th>1</th>\n",
       "      <td>R001</td>\n",
       "      <td>2011-05-01</td>\n",
       "      <td>05:00:00</td>\n",
       "      <td>5</td>\n",
       "      <td>REGULAR</td>\n",
       "      <td>217.0</td>\n",
       "      <td>553.0</td>\n",
       "      <td>30.31</td>\n",
       "      <td>42.0</td>\n",
       "      <td>35.0</td>\n",
       "      <td>...</td>\n",
       "      <td>39.0</td>\n",
       "      <td>30.27</td>\n",
       "      <td>0.0</td>\n",
       "      <td>0.0</td>\n",
       "      <td>5.0</td>\n",
       "      <td>50.0</td>\n",
       "      <td>60.0</td>\n",
       "      <td>69.0</td>\n",
       "      <td>0.0</td>\n",
       "      <td>0.0</td>\n",
       "    </tr>\n",
       "    <tr>\n",
       "      <th>2</th>\n",
       "      <td>R001</td>\n",
       "      <td>2011-05-01</td>\n",
       "      <td>09:00:00</td>\n",
       "      <td>9</td>\n",
       "      <td>REGULAR</td>\n",
       "      <td>890.0</td>\n",
       "      <td>1262.0</td>\n",
       "      <td>30.31</td>\n",
       "      <td>42.0</td>\n",
       "      <td>35.0</td>\n",
       "      <td>...</td>\n",
       "      <td>39.0</td>\n",
       "      <td>30.27</td>\n",
       "      <td>0.0</td>\n",
       "      <td>0.0</td>\n",
       "      <td>5.0</td>\n",
       "      <td>50.0</td>\n",
       "      <td>60.0</td>\n",
       "      <td>69.0</td>\n",
       "      <td>0.0</td>\n",
       "      <td>0.0</td>\n",
       "    </tr>\n",
       "    <tr>\n",
       "      <th>3</th>\n",
       "      <td>R001</td>\n",
       "      <td>2011-05-01</td>\n",
       "      <td>13:00:00</td>\n",
       "      <td>13</td>\n",
       "      <td>REGULAR</td>\n",
       "      <td>2451.0</td>\n",
       "      <td>3708.0</td>\n",
       "      <td>30.31</td>\n",
       "      <td>42.0</td>\n",
       "      <td>35.0</td>\n",
       "      <td>...</td>\n",
       "      <td>39.0</td>\n",
       "      <td>30.27</td>\n",
       "      <td>0.0</td>\n",
       "      <td>0.0</td>\n",
       "      <td>5.0</td>\n",
       "      <td>50.0</td>\n",
       "      <td>60.0</td>\n",
       "      <td>69.0</td>\n",
       "      <td>0.0</td>\n",
       "      <td>0.0</td>\n",
       "    </tr>\n",
       "    <tr>\n",
       "      <th>4</th>\n",
       "      <td>R001</td>\n",
       "      <td>2011-05-01</td>\n",
       "      <td>17:00:00</td>\n",
       "      <td>17</td>\n",
       "      <td>REGULAR</td>\n",
       "      <td>4400.0</td>\n",
       "      <td>2501.0</td>\n",
       "      <td>30.31</td>\n",
       "      <td>42.0</td>\n",
       "      <td>35.0</td>\n",
       "      <td>...</td>\n",
       "      <td>39.0</td>\n",
       "      <td>30.27</td>\n",
       "      <td>0.0</td>\n",
       "      <td>0.0</td>\n",
       "      <td>5.0</td>\n",
       "      <td>50.0</td>\n",
       "      <td>60.0</td>\n",
       "      <td>69.0</td>\n",
       "      <td>0.0</td>\n",
       "      <td>0.0</td>\n",
       "    </tr>\n",
       "  </tbody>\n",
       "</table>\n",
       "<p>5 rows × 21 columns</p>\n",
       "</div>"
      ],
      "text/plain": [
       "   UNIT       DATEn     TIMEn  Hour    DESCn  ENTRIESn_hourly  EXITSn_hourly  \\\n",
       "0  R001  2011-05-01  01:00:00     1  REGULAR              0.0            0.0   \n",
       "1  R001  2011-05-01  05:00:00     5  REGULAR            217.0          553.0   \n",
       "2  R001  2011-05-01  09:00:00     9  REGULAR            890.0         1262.0   \n",
       "3  R001  2011-05-01  13:00:00    13  REGULAR           2451.0         3708.0   \n",
       "4  R001  2011-05-01  17:00:00    17  REGULAR           4400.0         2501.0   \n",
       "\n",
       "   maxpressurei  maxdewpti  mindewpti   ...     meandewpti  meanpressurei  \\\n",
       "0         30.31       42.0       35.0   ...           39.0          30.27   \n",
       "1         30.31       42.0       35.0   ...           39.0          30.27   \n",
       "2         30.31       42.0       35.0   ...           39.0          30.27   \n",
       "3         30.31       42.0       35.0   ...           39.0          30.27   \n",
       "4         30.31       42.0       35.0   ...           39.0          30.27   \n",
       "\n",
       "   fog  rain  meanwindspdi  mintempi  meantempi  maxtempi  precipi  thunder  \n",
       "0  0.0   0.0           5.0      50.0       60.0      69.0      0.0      0.0  \n",
       "1  0.0   0.0           5.0      50.0       60.0      69.0      0.0      0.0  \n",
       "2  0.0   0.0           5.0      50.0       60.0      69.0      0.0      0.0  \n",
       "3  0.0   0.0           5.0      50.0       60.0      69.0      0.0      0.0  \n",
       "4  0.0   0.0           5.0      50.0       60.0      69.0      0.0      0.0  \n",
       "\n",
       "[5 rows x 21 columns]"
      ]
     },
     "execution_count": 189,
     "metadata": {},
     "output_type": "execute_result"
    }
   ],
   "source": [
    "# Read new dataframe with turnstile weather data\n",
    "turnstile_weather = pd.read_csv(turnstile_output_file)\n",
    "# Drop unkown columns\n",
    "turnstile_weather.drop(turnstile_weather.columns[0],axis=1,inplace=True)\n",
    "# Print first 5 rows\n",
    "turnstile_weather.head()"
   ]
  },
  {
   "cell_type": "code",
   "execution_count": 191,
   "metadata": {
    "collapsed": true
   },
   "outputs": [],
   "source": [
    "###  Exploratory Data Analysis"
   ]
  },
  {
   "cell_type": "code",
   "execution_count": 192,
   "metadata": {
    "collapsed": false
   },
   "outputs": [
    {
     "data": {
      "image/png": "[encoded data removed]",
      "text/plain": [
       "<matplotlib.figure.Figure at 0x1465b2e48>"
      ]
     },
     "metadata": {},
     "output_type": "display_data"
    }
   ],
   "source": [
    "# Hourly entries when raining vs. when not raining\n",
    "plt.figure()\n",
    "turnstile_weather[turnstile_weather['rain'] == 1]['ENTRIESn_hourly'].hist()\n",
    "turnstile_weather[turnstile_weather['rain'] == 0]['ENTRIESn_hourly'].hist()\n",
    "\n",
    "plt.show()\n"
   ]
  },
  {
   "cell_type": "code",
   "execution_count": 198,
   "metadata": {
    "collapsed": false
   },
   "outputs": [
    {
     "name": "stdout",
     "output_type": "stream",
     "text": [
      "Mean with rain: 1105.4463767458733, Mean without rain: 1090.278780151855\n",
      "U: 1924409167.0, p-value: 0.024940392294493356\n"
     ]
    }
   ],
   "source": [
    "# Mann-Whitney Test\n",
    "U,p = scipy.stats.mannwhitneyu(turnstile_weather[turnstile_weather['rain'] == 1]['ENTRIESn_hourly'],turnstile_weather[turnstile_weather['rain'] == 0]['ENTRIESn_hourly'])\n",
    "# Mann-Whitney Test\n",
    "mean_with_rain = np.mean(turnstile_weather[turnstile_weather['rain'] == 1]['ENTRIESn_hourly'])\n",
    "mean_without_rain = np.mean(turnstile_weather[turnstile_weather['rain'] == 0]['ENTRIESn_hourly'])\n",
    "\n",
    "print(\"Mean with rain: {}, Mean without rain: {}\".format(mean_with_rain,mean_without_rain))\n",
    "print(\"U: {}, p-value: {}\".format(U,p))"
   ]
  },
  {
   "cell_type": "markdown",
   "metadata": {},
   "source": [
    "I've used Mann Whitney u-Test at the NYC subway data, because the data it's not a normal distribution, so we have to use a non parametric test.\n",
    "\n",
    "The model is used to test null hypothesis that two populations are the same using one-tail P-value. In our case, these two populations are: rainy days and non rainy days.\n",
    "\n",
    "The result of the one tail P-critical value was: 0.25 (0.0249)"
   ]
  },
  {
   "cell_type": "code",
   "execution_count": null,
   "metadata": {
    "collapsed": true
   },
   "outputs": [],
   "source": []
  }
 ],
 "metadata": {
  "kernelspec": {
   "display_name": "Python 3",
   "language": "python",
   "name": "python3"
  },
  "language_info": {
   "codemirror_mode": {
    "name": "ipython",
    "version": 3
   },
   "file_extension": ".py",
   "mimetype": "text/x-python",
   "name": "python",
   "nbconvert_exporter": "python",
   "pygments_lexer": "ipython3",
   "version": "3.6.0"
  }
 },
 "nbformat": 4,
 "nbformat_minor": 2
}
