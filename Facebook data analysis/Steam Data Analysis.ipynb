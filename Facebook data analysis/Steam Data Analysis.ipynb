{
 "cells": [
  {
   "cell_type": "markdown",
   "metadata": {},
   "source": [
    "\n",
    "# Facebook Data Analysis\n"
   ]
  },
  {
   "cell_type": "markdown",
   "metadata": {},
   "source": [
    "## Getting data from Steam page with Graph Facebook API"
   ]
  },
  {
   "cell_type": "code",
   "execution_count": 92,
   "metadata": {
    "collapsed": true
   },
   "outputs": [],
   "source": [
    "#Import Libraries\n",
    "import requests\n",
    "import pprint\n",
    "import pickle\n",
    "import time\n",
    "import random\n",
    "import pandas as pd\n",
    "import numpy as np"
   ]
  },
  {
   "cell_type": "code",
   "execution_count": 122,
   "metadata": {
    "collapsed": false
   },
   "outputs": [
    {
     "name": "stdout",
     "output_type": "stream",
     "text": [
      "<Response [200]>\n"
     ]
    }
   ],
   "source": [
    "# Request Graph facebook API\n",
    "\n",
    "token = \"EAAbWYqF5NUUBADk2nUAhQAL76HMRjINdQcCFNcI1OMPCmPoZCZAvp8j2DI7uQ6B2R4ZBw7cZA5Y7VAyBz2lDQpkGgt4t4Ird1CSIAgrbnxSo97B2uYXmB0B65XSPQ7tCxw30ZAljAjqpDzdITDjpZB1skoVdSsHSkNPfXtJUdHsuxgOz4nNEsPbgrIdM0PhPgZD\"\n",
    "\n",
    "def req_facebook(req) :\n",
    "    r = requests.get(\"https://graph.facebook.com/v2.9/\" + req , {'access_token': token })\n",
    "    print(r)\n",
    "    return r\n",
    "req = \"steam/posts?fields=message%2Ccomments.limit(0).summary(true)%2Clikes.limit(0).summary(true)%2Ccreated_time\"\n",
    "\n",
    "result = req_facebook(req).json()"
   ]
  },
  {
   "cell_type": "code",
   "execution_count": 123,
   "metadata": {
    "collapsed": false
   },
   "outputs": [],
   "source": [
    "# Loop throw the results and save the next url request to data\n",
    "data = [] # new list\n",
    "i = 0\n",
    "while True :\n",
    "    try :\n",
    "        time.sleep(random.randint(1,2)) # wait between 1 and 2 seconds to make the next request\n",
    "        data.extend(result['data']) #put the content of the list into another list\n",
    "        r = requests.get(result['paging']['next']) # next post\n",
    "        result = r.json()\n",
    "        i+=1\n",
    "        if i> 3 :\n",
    "            break;\n",
    "\n",
    "    except: # if there's no more results \n",
    "        print(\"End\")\n",
    "        break\n",
    "        "
   ]
  },
  {
   "cell_type": "code",
   "execution_count": 124,
   "metadata": {
    "collapsed": false
   },
   "outputs": [],
   "source": [
    "# Saving data into a pickle file and upload it avoiding to make the requests every time\n",
    "pickle.dump(data,open(\"stream_data_fb.pkl\",\"wb\"))\n"
   ]
  },
  {
   "cell_type": "markdown",
   "metadata": {},
   "source": [
    "## Load data"
   ]
  },
  {
   "cell_type": "code",
   "execution_count": 125,
   "metadata": {
    "collapsed": true
   },
   "outputs": [],
   "source": [
    "loaded_data = pickle.load(file=open(\"stream_data_fb.pkl\",\"rb\"))"
   ]
  },
  {
   "cell_type": "markdown",
   "metadata": {},
   "source": [
    "## Setting up & Cleaning the data"
   ]
  },
  {
   "cell_type": "code",
   "execution_count": 126,
   "metadata": {
    "collapsed": false
   },
   "outputs": [
    {
     "data": {
      "text/plain": [
       "{'comments': {'data': [],\n",
       "  'summary': {'can_comment': True, 'order': 'ranked', 'total_count': 0}},\n",
       " 'created_time': '2017-06-13T17:10:04+0000',\n",
       " 'id': '67919847338_10154732666857339',\n",
       " 'likes': {'data': [],\n",
       "  'summary': {'can_like': True, 'has_liked': False, 'total_count': 3}},\n",
       " 'message': \"Save 60% on Dying Light: The Following - Enhanced Edition during this week's Midweek Madness*!\\n\\n*Offer ends Friday at 10AM Pacific Time\"}"
      ]
     },
     "execution_count": 126,
     "metadata": {},
     "output_type": "execute_result"
    }
   ],
   "source": [
    "# Pretty print of the data\n",
    "#pprint.pprint(loaded_data)\n",
    "loaded_data[0]"
   ]
  },
  {
   "cell_type": "code",
   "execution_count": 127,
   "metadata": {
    "collapsed": false
   },
   "outputs": [],
   "source": [
    "# From nested data to a columns based data\n",
    "df = pd.io.json.json_normalize(data=loaded_data)"
   ]
  },
  {
   "cell_type": "code",
   "execution_count": 131,
   "metadata": {
    "collapsed": false
   },
   "outputs": [
    {
     "data": {
      "text/html": [
       "<div>\n",
       "<table border=\"1\" class=\"dataframe\">\n",
       "  <thead>\n",
       "    <tr style=\"text-align: right;\">\n",
       "      <th></th>\n",
       "      <th>comments.data</th>\n",
       "      <th>comments.summary.can_comment</th>\n",
       "      <th>comments.summary.order</th>\n",
       "      <th>comments.summary.total_count</th>\n",
       "      <th>created_time</th>\n",
       "      <th>id</th>\n",
       "      <th>likes.data</th>\n",
       "      <th>likes.summary.can_like</th>\n",
       "      <th>likes.summary.has_liked</th>\n",
       "      <th>likes.summary.total_count</th>\n",
       "      <th>message</th>\n",
       "    </tr>\n",
       "  </thead>\n",
       "  <tbody>\n",
       "    <tr>\n",
       "      <th>0</th>\n",
       "      <td>[]</td>\n",
       "      <td>True</td>\n",
       "      <td>ranked</td>\n",
       "      <td>0</td>\n",
       "      <td>2017-06-13T17:10:04+0000</td>\n",
       "      <td>67919847338_10154732666857339</td>\n",
       "      <td>[]</td>\n",
       "      <td>True</td>\n",
       "      <td>False</td>\n",
       "      <td>3</td>\n",
       "      <td>Save 60% on Dying Light: The Following - Enhan...</td>\n",
       "    </tr>\n",
       "    <tr>\n",
       "      <th>1</th>\n",
       "      <td>[]</td>\n",
       "      <td>True</td>\n",
       "      <td>ranked</td>\n",
       "      <td>0</td>\n",
       "      <td>2017-06-13T17:10:03+0000</td>\n",
       "      <td>67919847338_10154732666797339</td>\n",
       "      <td>[]</td>\n",
       "      <td>True</td>\n",
       "      <td>False</td>\n",
       "      <td>3</td>\n",
       "      <td>Today's Deal: Save 50% on Tyranny !*\\n\\nLook f...</td>\n",
       "    </tr>\n",
       "    <tr>\n",
       "      <th>2</th>\n",
       "      <td>[]</td>\n",
       "      <td>True</td>\n",
       "      <td>ranked</td>\n",
       "      <td>0</td>\n",
       "      <td>2017-06-13T17:10:02+0000</td>\n",
       "      <td>67919847338_10154732666727339</td>\n",
       "      <td>[]</td>\n",
       "      <td>True</td>\n",
       "      <td>False</td>\n",
       "      <td>3</td>\n",
       "      <td>Save 40% on Space Hulk: Deathwing during this ...</td>\n",
       "    </tr>\n",
       "    <tr>\n",
       "      <th>3</th>\n",
       "      <td>[]</td>\n",
       "      <td>True</td>\n",
       "      <td>ranked</td>\n",
       "      <td>18</td>\n",
       "      <td>2017-06-13T13:46:18+0000</td>\n",
       "      <td>67919847338_10154732168212339</td>\n",
       "      <td>[]</td>\n",
       "      <td>True</td>\n",
       "      <td>False</td>\n",
       "      <td>163</td>\n",
       "      <td>LawBreakers is Now Available for Pre-Purchase ...</td>\n",
       "    </tr>\n",
       "    <tr>\n",
       "      <th>4</th>\n",
       "      <td>[]</td>\n",
       "      <td>True</td>\n",
       "      <td>ranked</td>\n",
       "      <td>64</td>\n",
       "      <td>2017-06-12T14:15:37+0000</td>\n",
       "      <td>67919847338_10154729240442339</td>\n",
       "      <td>[]</td>\n",
       "      <td>True</td>\n",
       "      <td>False</td>\n",
       "      <td>901</td>\n",
       "      <td>Watch the PC Gaming Show from E3 2017 live on ...</td>\n",
       "    </tr>\n",
       "  </tbody>\n",
       "</table>\n",
       "</div>"
      ],
      "text/plain": [
       "  comments.data comments.summary.can_comment comments.summary.order  \\\n",
       "0            []                         True                 ranked   \n",
       "1            []                         True                 ranked   \n",
       "2            []                         True                 ranked   \n",
       "3            []                         True                 ranked   \n",
       "4            []                         True                 ranked   \n",
       "\n",
       "   comments.summary.total_count              created_time  \\\n",
       "0                             0  2017-06-13T17:10:04+0000   \n",
       "1                             0  2017-06-13T17:10:03+0000   \n",
       "2                             0  2017-06-13T17:10:02+0000   \n",
       "3                            18  2017-06-13T13:46:18+0000   \n",
       "4                            64  2017-06-12T14:15:37+0000   \n",
       "\n",
       "                              id likes.data likes.summary.can_like  \\\n",
       "0  67919847338_10154732666857339         []                   True   \n",
       "1  67919847338_10154732666797339         []                   True   \n",
       "2  67919847338_10154732666727339         []                   True   \n",
       "3  67919847338_10154732168212339         []                   True   \n",
       "4  67919847338_10154729240442339         []                   True   \n",
       "\n",
       "  likes.summary.has_liked  likes.summary.total_count  \\\n",
       "0                   False                          3   \n",
       "1                   False                          3   \n",
       "2                   False                          3   \n",
       "3                   False                        163   \n",
       "4                   False                        901   \n",
       "\n",
       "                                             message  \n",
       "0  Save 60% on Dying Light: The Following - Enhan...  \n",
       "1  Today's Deal: Save 50% on Tyranny !*\\n\\nLook f...  \n",
       "2  Save 40% on Space Hulk: Deathwing during this ...  \n",
       "3  LawBreakers is Now Available for Pre-Purchase ...  \n",
       "4  Watch the PC Gaming Show from E3 2017 live on ...  "
      ]
     },
     "execution_count": 131,
     "metadata": {},
     "output_type": "execute_result"
    }
   ],
   "source": [
    "df.head()"
   ]
  },
  {
   "cell_type": "code",
   "execution_count": 132,
   "metadata": {
    "collapsed": false
   },
   "outputs": [
    {
     "name": "stdout",
     "output_type": "stream",
     "text": [
      "Index(['comments.data', 'comments.summary.can_comment',\n",
      "       'comments.summary.order', 'comments.summary.total_count',\n",
      "       'created_time', 'id', 'likes.data', 'likes.summary.can_like',\n",
      "       'likes.summary.has_liked', 'likes.summary.total_count', 'message'],\n",
      "      dtype='object')\n"
     ]
    }
   ],
   "source": [
    "df.columns = df.columns.str.strip()\n",
    "print(df.columns)"
   ]
  },
  {
   "cell_type": "markdown",
   "metadata": {},
   "source": [
    "## Drop useless columns"
   ]
  },
  {
   "cell_type": "code",
   "execution_count": 133,
   "metadata": {
    "collapsed": false
   },
   "outputs": [],
   "source": [
    "df.drop(['comments.data','comments.summary.can_comment','comments.summary.order','likes.data','likes.summary.can_like','likes.summary.has_liked'],axis=1,inplace=True)\n"
   ]
  },
  {
   "cell_type": "code",
   "execution_count": 134,
   "metadata": {
    "collapsed": false,
    "scrolled": true
   },
   "outputs": [
    {
     "data": {
      "text/html": [
       "<div>\n",
       "<table border=\"1\" class=\"dataframe\">\n",
       "  <thead>\n",
       "    <tr style=\"text-align: right;\">\n",
       "      <th></th>\n",
       "      <th>comments.summary.total_count</th>\n",
       "      <th>created_time</th>\n",
       "      <th>id</th>\n",
       "      <th>likes.summary.total_count</th>\n",
       "      <th>message</th>\n",
       "    </tr>\n",
       "  </thead>\n",
       "  <tbody>\n",
       "    <tr>\n",
       "      <th>0</th>\n",
       "      <td>0</td>\n",
       "      <td>2017-06-13T17:10:04+0000</td>\n",
       "      <td>67919847338_10154732666857339</td>\n",
       "      <td>3</td>\n",
       "      <td>Save 60% on Dying Light: The Following - Enhan...</td>\n",
       "    </tr>\n",
       "    <tr>\n",
       "      <th>1</th>\n",
       "      <td>0</td>\n",
       "      <td>2017-06-13T17:10:03+0000</td>\n",
       "      <td>67919847338_10154732666797339</td>\n",
       "      <td>3</td>\n",
       "      <td>Today's Deal: Save 50% on Tyranny !*\\n\\nLook f...</td>\n",
       "    </tr>\n",
       "    <tr>\n",
       "      <th>2</th>\n",
       "      <td>0</td>\n",
       "      <td>2017-06-13T17:10:02+0000</td>\n",
       "      <td>67919847338_10154732666727339</td>\n",
       "      <td>3</td>\n",
       "      <td>Save 40% on Space Hulk: Deathwing during this ...</td>\n",
       "    </tr>\n",
       "    <tr>\n",
       "      <th>3</th>\n",
       "      <td>18</td>\n",
       "      <td>2017-06-13T13:46:18+0000</td>\n",
       "      <td>67919847338_10154732168212339</td>\n",
       "      <td>163</td>\n",
       "      <td>LawBreakers is Now Available for Pre-Purchase ...</td>\n",
       "    </tr>\n",
       "    <tr>\n",
       "      <th>4</th>\n",
       "      <td>64</td>\n",
       "      <td>2017-06-12T14:15:37+0000</td>\n",
       "      <td>67919847338_10154729240442339</td>\n",
       "      <td>901</td>\n",
       "      <td>Watch the PC Gaming Show from E3 2017 live on ...</td>\n",
       "    </tr>\n",
       "  </tbody>\n",
       "</table>\n",
       "</div>"
      ],
      "text/plain": [
       "   comments.summary.total_count              created_time  \\\n",
       "0                             0  2017-06-13T17:10:04+0000   \n",
       "1                             0  2017-06-13T17:10:03+0000   \n",
       "2                             0  2017-06-13T17:10:02+0000   \n",
       "3                            18  2017-06-13T13:46:18+0000   \n",
       "4                            64  2017-06-12T14:15:37+0000   \n",
       "\n",
       "                              id  likes.summary.total_count  \\\n",
       "0  67919847338_10154732666857339                          3   \n",
       "1  67919847338_10154732666797339                          3   \n",
       "2  67919847338_10154732666727339                          3   \n",
       "3  67919847338_10154732168212339                        163   \n",
       "4  67919847338_10154729240442339                        901   \n",
       "\n",
       "                                             message  \n",
       "0  Save 60% on Dying Light: The Following - Enhan...  \n",
       "1  Today's Deal: Save 50% on Tyranny !*\\n\\nLook f...  \n",
       "2  Save 40% on Space Hulk: Deathwing during this ...  \n",
       "3  LawBreakers is Now Available for Pre-Purchase ...  \n",
       "4  Watch the PC Gaming Show from E3 2017 live on ...  "
      ]
     },
     "execution_count": 134,
     "metadata": {},
     "output_type": "execute_result"
    }
   ],
   "source": [
    "df.head()"
   ]
  },
  {
   "cell_type": "code",
   "execution_count": 135,
   "metadata": {
    "collapsed": true
   },
   "outputs": [],
   "source": [
    "df.rename(columns = {'comments.summary.total_count':'total_comments'},inplace=True)\n",
    "df.rename(columns = {'likes.summary.total_count':'total_likes'},inplace=True)\n",
    "#df.columns = ['total_comments','id','total_likes','message']"
   ]
  },
  {
   "cell_type": "markdown",
   "metadata": {
    "collapsed": false
   },
   "source": [
    "## Cleaning null values / Checking types"
   ]
  },
  {
   "cell_type": "code",
   "execution_count": 140,
   "metadata": {
    "collapsed": true
   },
   "outputs": [],
   "source": [
    "# Fill Nan values as empty\n",
    "df.fillna(\"\",inplace=True)"
   ]
  },
  {
   "cell_type": "code",
   "execution_count": 161,
   "metadata": {
    "collapsed": false
   },
   "outputs": [
    {
     "data": {
      "text/plain": [
       "total_comments     int64\n",
       "created_time      object\n",
       "id                object\n",
       "total_likes        int64\n",
       "message           object\n",
       "dtype: object"
      ]
     },
     "execution_count": 161,
     "metadata": {},
     "output_type": "execute_result"
    }
   ],
   "source": [
    "# Check columns types\n",
    "df.dtypes"
   ]
  },
  {
   "cell_type": "code",
   "execution_count": 164,
   "metadata": {
    "collapsed": false
   },
   "outputs": [
    {
     "data": {
      "text/plain": [
       "total_comments                                                    0\n",
       "created_time                                    2017-06-13 17:10:04\n",
       "id                                    67919847338_10154732666857339\n",
       "total_likes                                                       3\n",
       "message           Save 60% on Dying Light: The Following - Enhan...\n",
       "Name: 0, dtype: object"
      ]
     },
     "execution_count": 164,
     "metadata": {},
     "output_type": "execute_result"
    }
   ],
   "source": [
    "# convert date timeto datatime\n",
    "df['created_time'] = pd.to_datetime(df['created_time'])\n",
    "df.iloc[0]"
   ]
  },
  {
   "cell_type": "markdown",
   "metadata": {},
   "source": [
    "## Data Analysis"
   ]
  },
  {
   "cell_type": "code",
   "execution_count": 167,
   "metadata": {
    "collapsed": false
   },
   "outputs": [
    {
     "data": {
      "text/html": [
       "<div>\n",
       "<table border=\"1\" class=\"dataframe\">\n",
       "  <thead>\n",
       "    <tr style=\"text-align: right;\">\n",
       "      <th></th>\n",
       "      <th>total_comments</th>\n",
       "      <th>total_likes</th>\n",
       "    </tr>\n",
       "  </thead>\n",
       "  <tbody>\n",
       "    <tr>\n",
       "      <th>count</th>\n",
       "      <td>100.000000</td>\n",
       "      <td>100.000000</td>\n",
       "    </tr>\n",
       "    <tr>\n",
       "      <th>mean</th>\n",
       "      <td>78.780000</td>\n",
       "      <td>340.930000</td>\n",
       "    </tr>\n",
       "    <tr>\n",
       "      <th>std</th>\n",
       "      <td>400.999675</td>\n",
       "      <td>994.792707</td>\n",
       "    </tr>\n",
       "    <tr>\n",
       "      <th>min</th>\n",
       "      <td>0.000000</td>\n",
       "      <td>3.000000</td>\n",
       "    </tr>\n",
       "    <tr>\n",
       "      <th>25%</th>\n",
       "      <td>11.000000</td>\n",
       "      <td>117.250000</td>\n",
       "    </tr>\n",
       "    <tr>\n",
       "      <th>50%</th>\n",
       "      <td>26.000000</td>\n",
       "      <td>174.000000</td>\n",
       "    </tr>\n",
       "    <tr>\n",
       "      <th>75%</th>\n",
       "      <td>46.000000</td>\n",
       "      <td>271.250000</td>\n",
       "    </tr>\n",
       "    <tr>\n",
       "      <th>max</th>\n",
       "      <td>4015.000000</td>\n",
       "      <td>9908.000000</td>\n",
       "    </tr>\n",
       "  </tbody>\n",
       "</table>\n",
       "</div>"
      ],
      "text/plain": [
       "       total_comments  total_likes\n",
       "count      100.000000   100.000000\n",
       "mean        78.780000   340.930000\n",
       "std        400.999675   994.792707\n",
       "min          0.000000     3.000000\n",
       "25%         11.000000   117.250000\n",
       "50%         26.000000   174.000000\n",
       "75%         46.000000   271.250000\n",
       "max       4015.000000  9908.000000"
      ]
     },
     "execution_count": 167,
     "metadata": {},
     "output_type": "execute_result"
    }
   ],
   "source": [
    "# Statistics\n",
    "df.describe()"
   ]
  },
  {
   "cell_type": "code",
   "execution_count": 168,
   "metadata": {
    "collapsed": false
   },
   "outputs": [
    {
     "name": "stdout",
     "output_type": "stream",
     "text": [
      "<class 'pandas.core.frame.DataFrame'>\n",
      "RangeIndex: 100 entries, 0 to 99\n",
      "Data columns (total 5 columns):\n",
      "total_comments    100 non-null int64\n",
      "created_time      100 non-null datetime64[ns]\n",
      "id                100 non-null object\n",
      "total_likes       100 non-null int64\n",
      "message           100 non-null object\n",
      "dtypes: datetime64[ns](1), int64(2), object(2)\n",
      "memory usage: 4.0+ KB\n"
     ]
    }
   ],
   "source": [
    "df.info()"
   ]
  },
  {
   "cell_type": "code",
   "execution_count": null,
   "metadata": {
    "collapsed": true
   },
   "outputs": [],
   "source": []
  }
 ],
 "metadata": {
  "kernelspec": {
   "display_name": "Python 3",
   "language": "python",
   "name": "python3"
  },
  "language_info": {
   "codemirror_mode": {
    "name": "ipython",
    "version": 3
   },
   "file_extension": ".py",
   "mimetype": "text/x-python",
   "name": "python",
   "nbconvert_exporter": "python",
   "pygments_lexer": "ipython3",
   "version": "3.6.0"
  }
 },
 "nbformat": 4,
 "nbformat_minor": 2
}
