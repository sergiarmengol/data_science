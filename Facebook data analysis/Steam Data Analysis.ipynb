{
 "cells": [
  {
   "cell_type": "markdown",
   "metadata": {},
   "source": [
    "\n",
    "# Facebook Data Analysis\n"
   ]
  },
  {
   "cell_type": "markdown",
   "metadata": {},
   "source": [
    "## Getting data from Steam page with Graph Facebook API\n",
    "### https://developers.facebook.com/tools/explorer/1924568964478277?method=GET&path=steam%2Fposts%3Ffields%3Dmessage%2Ccomments.limit(0).summary(true)%2Clikes.limit(0).summary(true)%2Ccreated_time&version=v2.9"
   ]
  },
  {
   "cell_type": "code",
   "execution_count": 30,
   "metadata": {
    "collapsed": false
   },
   "outputs": [
    {
     "data": {
      "text/plain": [
       "'\\nimport nltk\\nnltk.download()\\n'"
      ]
     },
     "execution_count": 30,
     "metadata": {},
     "output_type": "execute_result"
    }
   ],
   "source": [
    "#Import Libraries\n",
    "import requests\n",
    "import pprint\n",
    "import pickle\n",
    "import time\n",
    "import random\n",
    "import pandas as pd\n",
    "import numpy as np\n",
    "import matplotlib.pyplot as plt\n",
    "import string\n",
    "from nltk.corpus import stopwords\n",
    "import sklearn\n",
    "'''\n",
    "import nltk\n",
    "nltk.download()\n",
    "'''"
   ]
  },
  {
   "cell_type": "code",
   "execution_count": 2,
   "metadata": {
    "collapsed": false
   },
   "outputs": [
    {
     "name": "stdout",
     "output_type": "stream",
     "text": [
      "<Response [200]>\n"
     ]
    }
   ],
   "source": [
    "# Request Graph facebook API\n",
    "\n",
    "token = \"EAAbWYqF5NUUBADag72tzmtmOLoShiIaDNx6EILglgtsQjb3LgZChp3cLZB9kSkwbZAcqGHQyyxZBxSwqxVBX5goZAAuKFc1jgdUCxZCEqhgyDEhFTJqacECV0oVjUoxNlhEiZCXz0XBzisPoAriZANk5we81aRZAonwdcExNwBoHZAZCtiaegoZAqyxtiLM51zx2ZB0gZD\"\n",
    "\n",
    "def req_facebook(req) :\n",
    "    r = requests.get(\"https://graph.facebook.com/v2.9/\" + req , {'access_token': token })\n",
    "    print(r)\n",
    "    return r\n",
    "req = \"steam/posts?fields=message%2Ccomments.limit(0).summary(true)%2Clikes.limit(0).summary(true)%2Ccreated_time\"\n",
    "\n",
    "result = req_facebook(req).json()\n"
   ]
  },
  {
   "cell_type": "code",
   "execution_count": 3,
   "metadata": {
    "collapsed": false
   },
   "outputs": [
    {
     "name": "stdout",
     "output_type": "stream",
     "text": [
      "End\n"
     ]
    }
   ],
   "source": [
    "# Loop throw the results and save the next url request to data\n",
    "data = [] # new list\n",
    "i = 0\n",
    "while True :\n",
    "    try :\n",
    "        time.sleep(random.randint(1,2)) # wait between 1 and 2 seconds to make the next request\n",
    "        data.extend(result['data']) #put the content of the list data into another list\n",
    "        r = requests.get(result['paging']['next']) # next page\n",
    "        result = r.json()\n",
    "        i+=1\n",
    "        '''\n",
    "        if i> 3 : # just the 3 first pages for debugging\n",
    "            break;\n",
    "        '''\n",
    "    except: # if there's no more results \n",
    "        print(\"End\")\n",
    "        break\n",
    "        "
   ]
  },
  {
   "cell_type": "code",
   "execution_count": 4,
   "metadata": {
    "collapsed": false
   },
   "outputs": [],
   "source": [
    "# Saving data into a pickle file and upload it avoiding to make the requests every time\n",
    "pickle.dump(data,open(\"stream_data_fb.pkl\",\"wb\"))\n"
   ]
  },
  {
   "cell_type": "markdown",
   "metadata": {},
   "source": [
    "## Load data"
   ]
  },
  {
   "cell_type": "code",
   "execution_count": 2,
   "metadata": {
    "collapsed": false
   },
   "outputs": [],
   "source": [
    "loaded_data = pickle.load(file=open(\"stream_data_fb.pkl\",\"rb\"))"
   ]
  },
  {
   "cell_type": "markdown",
   "metadata": {},
   "source": [
    "## Setting up & Cleaning the data"
   ]
  },
  {
   "cell_type": "code",
   "execution_count": 3,
   "metadata": {
    "collapsed": false
   },
   "outputs": [
    {
     "data": {
      "text/plain": [
       "{'comments': {'data': [],\n",
       "  'summary': {'can_comment': True, 'order': 'ranked', 'total_count': 7}},\n",
       " 'created_time': '2017-06-15T01:15:43+0000',\n",
       " 'id': '67919847338_10154736895752339',\n",
       " 'likes': {'data': [],\n",
       "  'summary': {'can_like': True, 'has_liked': False, 'total_count': 137}},\n",
       " 'message': 'Oats Studios - Volume 1 is Now Available on Steam!\\n\\nOats Studios makes experimental short films â€� a testing ground for ideas and creativity. Leading to full scale feature films based on ideas created here. If you like what you see, get behind us. Check out our Oats Studios - Volume 1 Assets page to purchase additional content.'}"
      ]
     },
     "execution_count": 3,
     "metadata": {},
     "output_type": "execute_result"
    }
   ],
   "source": [
    "# Pretty print of the data\n",
    "#pprint.pprint(loaded_data)\n",
    "loaded_data[0]"
   ]
  },
  {
   "cell_type": "code",
   "execution_count": 4,
   "metadata": {
    "collapsed": false
   },
   "outputs": [],
   "source": [
    "# From nested data to a columns based data\n",
    "df = pd.io.json.json_normalize(data=loaded_data)"
   ]
  },
  {
   "cell_type": "code",
   "execution_count": 5,
   "metadata": {
    "collapsed": false
   },
   "outputs": [
    {
     "data": {
      "text/html": [
       "<div>\n",
       "<table border=\"1\" class=\"dataframe\">\n",
       "  <thead>\n",
       "    <tr style=\"text-align: right;\">\n",
       "      <th></th>\n",
       "      <th>comments.data</th>\n",
       "      <th>comments.summary.can_comment</th>\n",
       "      <th>comments.summary.order</th>\n",
       "      <th>comments.summary.total_count</th>\n",
       "      <th>created_time</th>\n",
       "      <th>id</th>\n",
       "      <th>likes.data</th>\n",
       "      <th>likes.summary.can_like</th>\n",
       "      <th>likes.summary.has_liked</th>\n",
       "      <th>likes.summary.total_count</th>\n",
       "      <th>message</th>\n",
       "    </tr>\n",
       "  </thead>\n",
       "  <tbody>\n",
       "    <tr>\n",
       "      <th>0</th>\n",
       "      <td>[]</td>\n",
       "      <td>True</td>\n",
       "      <td>ranked</td>\n",
       "      <td>7</td>\n",
       "      <td>2017-06-15T01:15:43+0000</td>\n",
       "      <td>67919847338_10154736895752339</td>\n",
       "      <td>[]</td>\n",
       "      <td>True</td>\n",
       "      <td>False</td>\n",
       "      <td>137</td>\n",
       "      <td>Oats Studios - Volume 1 is Now Available on St...</td>\n",
       "    </tr>\n",
       "    <tr>\n",
       "      <th>1</th>\n",
       "      <td>[]</td>\n",
       "      <td>True</td>\n",
       "      <td>ranked</td>\n",
       "      <td>7</td>\n",
       "      <td>2017-06-15T01:15:42+0000</td>\n",
       "      <td>67919847338_10154736895697339</td>\n",
       "      <td>[]</td>\n",
       "      <td>True</td>\n",
       "      <td>False</td>\n",
       "      <td>66</td>\n",
       "      <td>Symphonic Rain is Now Available on Steam and i...</td>\n",
       "    </tr>\n",
       "    <tr>\n",
       "      <th>2</th>\n",
       "      <td>[]</td>\n",
       "      <td>True</td>\n",
       "      <td>ranked</td>\n",
       "      <td>59</td>\n",
       "      <td>2017-06-14T17:41:59+0000</td>\n",
       "      <td>67919847338_10154735930927339</td>\n",
       "      <td>[]</td>\n",
       "      <td>True</td>\n",
       "      <td>False</td>\n",
       "      <td>224</td>\n",
       "      <td>Today's Deal: Save 60% on XCOMÂ® 2 !*\\n\\nLook ...</td>\n",
       "    </tr>\n",
       "    <tr>\n",
       "      <th>3</th>\n",
       "      <td>[]</td>\n",
       "      <td>True</td>\n",
       "      <td>ranked</td>\n",
       "      <td>102</td>\n",
       "      <td>2017-06-13T17:10:04+0000</td>\n",
       "      <td>67919847338_10154732666857339</td>\n",
       "      <td>[]</td>\n",
       "      <td>True</td>\n",
       "      <td>False</td>\n",
       "      <td>530</td>\n",
       "      <td>Save 60% on Dying Light: The Following - Enhan...</td>\n",
       "    </tr>\n",
       "    <tr>\n",
       "      <th>4</th>\n",
       "      <td>[]</td>\n",
       "      <td>True</td>\n",
       "      <td>ranked</td>\n",
       "      <td>17</td>\n",
       "      <td>2017-06-13T17:10:03+0000</td>\n",
       "      <td>67919847338_10154732666797339</td>\n",
       "      <td>[]</td>\n",
       "      <td>True</td>\n",
       "      <td>False</td>\n",
       "      <td>164</td>\n",
       "      <td>Today's Deal: Save 50% on Tyranny !*\\n\\nLook f...</td>\n",
       "    </tr>\n",
       "  </tbody>\n",
       "</table>\n",
       "</div>"
      ],
      "text/plain": [
       "  comments.data comments.summary.can_comment comments.summary.order  \\\n",
       "0            []                         True                 ranked   \n",
       "1            []                         True                 ranked   \n",
       "2            []                         True                 ranked   \n",
       "3            []                         True                 ranked   \n",
       "4            []                         True                 ranked   \n",
       "\n",
       "   comments.summary.total_count              created_time  \\\n",
       "0                             7  2017-06-15T01:15:43+0000   \n",
       "1                             7  2017-06-15T01:15:42+0000   \n",
       "2                            59  2017-06-14T17:41:59+0000   \n",
       "3                           102  2017-06-13T17:10:04+0000   \n",
       "4                            17  2017-06-13T17:10:03+0000   \n",
       "\n",
       "                              id likes.data likes.summary.can_like  \\\n",
       "0  67919847338_10154736895752339         []                   True   \n",
       "1  67919847338_10154736895697339         []                   True   \n",
       "2  67919847338_10154735930927339         []                   True   \n",
       "3  67919847338_10154732666857339         []                   True   \n",
       "4  67919847338_10154732666797339         []                   True   \n",
       "\n",
       "  likes.summary.has_liked  likes.summary.total_count  \\\n",
       "0                   False                        137   \n",
       "1                   False                         66   \n",
       "2                   False                        224   \n",
       "3                   False                        530   \n",
       "4                   False                        164   \n",
       "\n",
       "                                             message  \n",
       "0  Oats Studios - Volume 1 is Now Available on St...  \n",
       "1  Symphonic Rain is Now Available on Steam and i...  \n",
       "2  Today's Deal: Save 60% on XCOMÂ® 2 !*\\n\\nLook ...  \n",
       "3  Save 60% on Dying Light: The Following - Enhan...  \n",
       "4  Today's Deal: Save 50% on Tyranny !*\\n\\nLook f...  "
      ]
     },
     "execution_count": 5,
     "metadata": {},
     "output_type": "execute_result"
    }
   ],
   "source": [
    "df.head()"
   ]
  },
  {
   "cell_type": "code",
   "execution_count": 6,
   "metadata": {
    "collapsed": false
   },
   "outputs": [
    {
     "name": "stdout",
     "output_type": "stream",
     "text": [
      "Index(['comments.data', 'comments.summary.can_comment',\n",
      "       'comments.summary.order', 'comments.summary.total_count',\n",
      "       'created_time', 'id', 'likes.data', 'likes.summary.can_like',\n",
      "       'likes.summary.has_liked', 'likes.summary.total_count', 'message'],\n",
      "      dtype='object')\n"
     ]
    }
   ],
   "source": [
    "df.columns = df.columns.str.strip()\n",
    "print(df.columns)"
   ]
  },
  {
   "cell_type": "markdown",
   "metadata": {},
   "source": [
    "## Drop useless columns"
   ]
  },
  {
   "cell_type": "code",
   "execution_count": 7,
   "metadata": {
    "collapsed": false
   },
   "outputs": [],
   "source": [
    "df.drop(['comments.data','comments.summary.can_comment','comments.summary.order','likes.data','likes.summary.can_like','likes.summary.has_liked'],axis=1,inplace=True)\n"
   ]
  },
  {
   "cell_type": "code",
   "execution_count": 8,
   "metadata": {
    "collapsed": false,
    "scrolled": true
   },
   "outputs": [
    {
     "data": {
      "text/html": [
       "<div>\n",
       "<table border=\"1\" class=\"dataframe\">\n",
       "  <thead>\n",
       "    <tr style=\"text-align: right;\">\n",
       "      <th></th>\n",
       "      <th>comments.summary.total_count</th>\n",
       "      <th>created_time</th>\n",
       "      <th>id</th>\n",
       "      <th>likes.summary.total_count</th>\n",
       "      <th>message</th>\n",
       "    </tr>\n",
       "  </thead>\n",
       "  <tbody>\n",
       "    <tr>\n",
       "      <th>0</th>\n",
       "      <td>7</td>\n",
       "      <td>2017-06-15T01:15:43+0000</td>\n",
       "      <td>67919847338_10154736895752339</td>\n",
       "      <td>137</td>\n",
       "      <td>Oats Studios - Volume 1 is Now Available on St...</td>\n",
       "    </tr>\n",
       "    <tr>\n",
       "      <th>1</th>\n",
       "      <td>7</td>\n",
       "      <td>2017-06-15T01:15:42+0000</td>\n",
       "      <td>67919847338_10154736895697339</td>\n",
       "      <td>66</td>\n",
       "      <td>Symphonic Rain is Now Available on Steam and i...</td>\n",
       "    </tr>\n",
       "    <tr>\n",
       "      <th>2</th>\n",
       "      <td>59</td>\n",
       "      <td>2017-06-14T17:41:59+0000</td>\n",
       "      <td>67919847338_10154735930927339</td>\n",
       "      <td>224</td>\n",
       "      <td>Today's Deal: Save 60% on XCOMÂ® 2 !*\\n\\nLook ...</td>\n",
       "    </tr>\n",
       "    <tr>\n",
       "      <th>3</th>\n",
       "      <td>102</td>\n",
       "      <td>2017-06-13T17:10:04+0000</td>\n",
       "      <td>67919847338_10154732666857339</td>\n",
       "      <td>530</td>\n",
       "      <td>Save 60% on Dying Light: The Following - Enhan...</td>\n",
       "    </tr>\n",
       "    <tr>\n",
       "      <th>4</th>\n",
       "      <td>17</td>\n",
       "      <td>2017-06-13T17:10:03+0000</td>\n",
       "      <td>67919847338_10154732666797339</td>\n",
       "      <td>164</td>\n",
       "      <td>Today's Deal: Save 50% on Tyranny !*\\n\\nLook f...</td>\n",
       "    </tr>\n",
       "  </tbody>\n",
       "</table>\n",
       "</div>"
      ],
      "text/plain": [
       "   comments.summary.total_count              created_time  \\\n",
       "0                             7  2017-06-15T01:15:43+0000   \n",
       "1                             7  2017-06-15T01:15:42+0000   \n",
       "2                            59  2017-06-14T17:41:59+0000   \n",
       "3                           102  2017-06-13T17:10:04+0000   \n",
       "4                            17  2017-06-13T17:10:03+0000   \n",
       "\n",
       "                              id  likes.summary.total_count  \\\n",
       "0  67919847338_10154736895752339                        137   \n",
       "1  67919847338_10154736895697339                         66   \n",
       "2  67919847338_10154735930927339                        224   \n",
       "3  67919847338_10154732666857339                        530   \n",
       "4  67919847338_10154732666797339                        164   \n",
       "\n",
       "                                             message  \n",
       "0  Oats Studios - Volume 1 is Now Available on St...  \n",
       "1  Symphonic Rain is Now Available on Steam and i...  \n",
       "2  Today's Deal: Save 60% on XCOMÂ® 2 !*\\n\\nLook ...  \n",
       "3  Save 60% on Dying Light: The Following - Enhan...  \n",
       "4  Today's Deal: Save 50% on Tyranny !*\\n\\nLook f...  "
      ]
     },
     "execution_count": 8,
     "metadata": {},
     "output_type": "execute_result"
    }
   ],
   "source": [
    "df.head()"
   ]
  },
  {
   "cell_type": "code",
   "execution_count": 9,
   "metadata": {
    "collapsed": true
   },
   "outputs": [],
   "source": [
    "df.rename(columns = {'comments.summary.total_count':'total_comments'},inplace=True)\n",
    "df.rename(columns = {'likes.summary.total_count':'total_likes'},inplace=True)\n",
    "#df.columns = ['total_comments','id','total_likes','message']"
   ]
  },
  {
   "cell_type": "markdown",
   "metadata": {
    "collapsed": false
   },
   "source": [
    "## Cleaning null values / Checking types"
   ]
  },
  {
   "cell_type": "code",
   "execution_count": 10,
   "metadata": {
    "collapsed": true
   },
   "outputs": [],
   "source": [
    "# Fill Nan values as empty\n",
    "df.fillna(\"\",inplace=True)"
   ]
  },
  {
   "cell_type": "code",
   "execution_count": 11,
   "metadata": {
    "collapsed": false
   },
   "outputs": [
    {
     "data": {
      "text/plain": [
       "total_comments     int64\n",
       "created_time      object\n",
       "id                object\n",
       "total_likes        int64\n",
       "message           object\n",
       "dtype: object"
      ]
     },
     "execution_count": 11,
     "metadata": {},
     "output_type": "execute_result"
    }
   ],
   "source": [
    "# Check columns types\n",
    "df.dtypes"
   ]
  },
  {
   "cell_type": "code",
   "execution_count": 12,
   "metadata": {
    "collapsed": false
   },
   "outputs": [
    {
     "data": {
      "text/plain": [
       "total_comments                                                    7\n",
       "created_time                                    2017-06-15 01:15:43\n",
       "id                                    67919847338_10154736895752339\n",
       "total_likes                                                     137\n",
       "message           Oats Studios - Volume 1 is Now Available on St...\n",
       "Name: 0, dtype: object"
      ]
     },
     "execution_count": 12,
     "metadata": {},
     "output_type": "execute_result"
    }
   ],
   "source": [
    "# convert date timeto datatime\n",
    "df['created_time'] = pd.to_datetime(df['created_time'])\n",
    "df.iloc[0]"
   ]
  },
  {
   "cell_type": "markdown",
   "metadata": {},
   "source": [
    "## Data Analysis"
   ]
  },
  {
   "cell_type": "code",
   "execution_count": 13,
   "metadata": {
    "collapsed": false
   },
   "outputs": [
    {
     "data": {
      "text/html": [
       "<div>\n",
       "<table border=\"1\" class=\"dataframe\">\n",
       "  <thead>\n",
       "    <tr style=\"text-align: right;\">\n",
       "      <th></th>\n",
       "      <th>total_comments</th>\n",
       "      <th>total_likes</th>\n",
       "    </tr>\n",
       "  </thead>\n",
       "  <tbody>\n",
       "    <tr>\n",
       "      <th>count</th>\n",
       "      <td>6394.000000</td>\n",
       "      <td>6394.000000</td>\n",
       "    </tr>\n",
       "    <tr>\n",
       "      <th>mean</th>\n",
       "      <td>58.522208</td>\n",
       "      <td>173.412261</td>\n",
       "    </tr>\n",
       "    <tr>\n",
       "      <th>std</th>\n",
       "      <td>143.631018</td>\n",
       "      <td>477.531217</td>\n",
       "    </tr>\n",
       "    <tr>\n",
       "      <th>min</th>\n",
       "      <td>0.000000</td>\n",
       "      <td>0.000000</td>\n",
       "    </tr>\n",
       "    <tr>\n",
       "      <th>25%</th>\n",
       "      <td>17.000000</td>\n",
       "      <td>55.000000</td>\n",
       "    </tr>\n",
       "    <tr>\n",
       "      <th>50%</th>\n",
       "      <td>32.000000</td>\n",
       "      <td>88.000000</td>\n",
       "    </tr>\n",
       "    <tr>\n",
       "      <th>75%</th>\n",
       "      <td>61.000000</td>\n",
       "      <td>161.000000</td>\n",
       "    </tr>\n",
       "    <tr>\n",
       "      <th>max</th>\n",
       "      <td>6243.000000</td>\n",
       "      <td>20351.000000</td>\n",
       "    </tr>\n",
       "  </tbody>\n",
       "</table>\n",
       "</div>"
      ],
      "text/plain": [
       "       total_comments   total_likes\n",
       "count     6394.000000   6394.000000\n",
       "mean        58.522208    173.412261\n",
       "std        143.631018    477.531217\n",
       "min          0.000000      0.000000\n",
       "25%         17.000000     55.000000\n",
       "50%         32.000000     88.000000\n",
       "75%         61.000000    161.000000\n",
       "max       6243.000000  20351.000000"
      ]
     },
     "execution_count": 13,
     "metadata": {},
     "output_type": "execute_result"
    }
   ],
   "source": [
    "# Statistics\n",
    "df.describe()"
   ]
  },
  {
   "cell_type": "code",
   "execution_count": 14,
   "metadata": {
    "collapsed": false
   },
   "outputs": [
    {
     "name": "stdout",
     "output_type": "stream",
     "text": [
      "<class 'pandas.core.frame.DataFrame'>\n",
      "RangeIndex: 6394 entries, 0 to 6393\n",
      "Data columns (total 5 columns):\n",
      "total_comments    6394 non-null int64\n",
      "created_time      6394 non-null datetime64[ns]\n",
      "id                6394 non-null object\n",
      "total_likes       6394 non-null int64\n",
      "message           6394 non-null object\n",
      "dtypes: datetime64[ns](1), int64(2), object(2)\n",
      "memory usage: 249.8+ KB\n"
     ]
    }
   ],
   "source": [
    "df.info()"
   ]
  },
  {
   "cell_type": "markdown",
   "metadata": {
    "collapsed": true
   },
   "source": [
    "## Data Visualization"
   ]
  },
  {
   "cell_type": "code",
   "execution_count": 15,
   "metadata": {
    "collapsed": false
   },
   "outputs": [],
   "source": [
    "copy_df = df.copy()"
   ]
  },
  {
   "cell_type": "code",
   "execution_count": 16,
   "metadata": {
    "collapsed": true
   },
   "outputs": [],
   "source": [
    "copy_df.set_index('created_time',inplace=True)"
   ]
  },
  {
   "cell_type": "code",
   "execution_count": 17,
   "metadata": {
    "collapsed": false
   },
   "outputs": [],
   "source": [
    "#Downsample data to group by total of comments and likes per day\n",
    "day_downsample = copy_df.resample('M').sum()"
   ]
  },
  {
   "cell_type": "code",
   "execution_count": 18,
   "metadata": {
    "collapsed": false
   },
   "outputs": [
    {
     "data": {
      "image/png": "[encoded data removed]",
      "text/plain": [
       "<matplotlib.figure.Figure at 0x11ecb6588>"
      ]
     },
     "metadata": {},
     "output_type": "display_data"
    }
   ],
   "source": [
    "day_downsample.plot(subplots=True,figsize=(10,8))\n",
    "plt.show()"
   ]
  },
  {
   "cell_type": "code",
   "execution_count": 19,
   "metadata": {
    "collapsed": false
   },
   "outputs": [
    {
     "data": {
      "text/html": [
       "<div>\n",
       "<table border=\"1\" class=\"dataframe\">\n",
       "  <thead>\n",
       "    <tr style=\"text-align: right;\">\n",
       "      <th></th>\n",
       "      <th>total_comments</th>\n",
       "      <th>total_likes</th>\n",
       "    </tr>\n",
       "    <tr>\n",
       "      <th>created_time</th>\n",
       "      <th></th>\n",
       "      <th></th>\n",
       "    </tr>\n",
       "  </thead>\n",
       "  <tbody>\n",
       "    <tr>\n",
       "      <th>2014-06-30</th>\n",
       "      <td>14245.0</td>\n",
       "      <td>54767.0</td>\n",
       "    </tr>\n",
       "  </tbody>\n",
       "</table>\n",
       "</div>"
      ],
      "text/plain": [
       "              total_comments  total_likes\n",
       "created_time                             \n",
       "2014-06-30           14245.0      54767.0"
      ]
     },
     "execution_count": 19,
     "metadata": {},
     "output_type": "execute_result"
    }
   ],
   "source": [
    "# Check day of max likes\n",
    "day_downsample[day_downsample['total_likes'] == np.max(day_downsample['total_likes'])]"
   ]
  },
  {
   "cell_type": "markdown",
   "metadata": {},
   "source": [
    "## Most comented post"
   ]
  },
  {
   "cell_type": "code",
   "execution_count": 20,
   "metadata": {
    "collapsed": false
   },
   "outputs": [
    {
     "name": "stdout",
     "output_type": "stream",
     "text": [
      "https://www.facebook.com/67919847338_10151870697512339\n",
      "https://www.facebook.com/67919847338_10154718374237339\n",
      "https://www.facebook.com/67919847338_10201408757494113\n",
      "https://www.facebook.com/67919847338_10152109331327339\n",
      "https://www.facebook.com/67919847338_10154248068522339\n",
      "https://www.facebook.com/67919847338_10152188716552339\n",
      "https://www.facebook.com/67919847338_10152385691332339\n",
      "https://www.facebook.com/67919847338_10201460830035894\n",
      "https://www.facebook.com/67919847338_10152174809517339\n",
      "https://www.facebook.com/67919847338_10153761798622339\n"
     ]
    }
   ],
   "source": [
    "copy_df = copy_df.reset_index()\n",
    "top_comments = copy_df.sort_values('total_comments',ascending=False).head(10)['id']\n",
    "for i,com_id in top_comments.iteritems() :\n",
    "    print(\"https://www.facebook.com/{}\".format(com_id))\n",
    "\n"
   ]
  },
  {
   "cell_type": "code",
   "execution_count": 21,
   "metadata": {
    "collapsed": false
   },
   "outputs": [
    {
     "name": "stdout",
     "output_type": "stream",
     "text": [
      "https://www.facebook.com/67919847338_10151870697512339\n",
      "https://www.facebook.com/67919847338_10154718374237339\n",
      "https://www.facebook.com/67919847338_10201408757494113\n",
      "https://www.facebook.com/67919847338_10152109331327339\n",
      "https://www.facebook.com/67919847338_10154248068522339\n",
      "https://www.facebook.com/67919847338_10152188716552339\n",
      "https://www.facebook.com/67919847338_10152385691332339\n",
      "https://www.facebook.com/67919847338_10201460830035894\n",
      "https://www.facebook.com/67919847338_10152174809517339\n",
      "https://www.facebook.com/67919847338_10153761798622339\n"
     ]
    }
   ],
   "source": [
    "top_likes = copy_df.sort_values('total_comments',ascending=False).head(10)['id']\n",
    "for i,like in top_likes.iteritems() :\n",
    "    print(\"https://www.facebook.com/{}\".format(like))\n",
    "    "
   ]
  },
  {
   "cell_type": "code",
   "execution_count": 22,
   "metadata": {
    "collapsed": false
   },
   "outputs": [],
   "source": [
    "assert list(top_likes)[0] == list(top_comments)[0] ## Check if the most commented post it is actually the one with more likes"
   ]
  },
  {
   "cell_type": "markdown",
   "metadata": {},
   "source": [
    "## Most common words"
   ]
  },
  {
   "cell_type": "code",
   "execution_count": 23,
   "metadata": {
    "collapsed": false
   },
   "outputs": [],
   "source": [
    "stop_words = set(stopwords.words('english'))\n",
    "def word_count(df,column) :\n",
    "    translator = str.maketrans('','', string.punctuation)\n",
    "    words = {} # dictionary of words count\n",
    "    for message in df[column] :\n",
    "        split_message = message.strip().split(' ') \n",
    "        for word in split_message :\n",
    "            word = word.strip()\n",
    "            word = word.lower()\n",
    "            word = word.translate(translator)\n",
    "            if word not in stop_words :\n",
    "                if len(word) > 3 :\n",
    "                    if word in words :\n",
    "                        words[word] +=1\n",
    "                    else :\n",
    "                        words[word] = 1\n",
    "                    \n",
    "    return words"
   ]
  },
  {
   "cell_type": "code",
   "execution_count": 24,
   "metadata": {
    "collapsed": false
   },
   "outputs": [],
   "source": [
    "word_count = word_count(df,'message')"
   ]
  },
  {
   "cell_type": "code",
   "execution_count": 25,
   "metadata": {
    "collapsed": false
   },
   "outputs": [],
   "source": [
    "words_df = pd.DataFrame(list(word_count.items()),columns=['words','count'])"
   ]
  },
  {
   "cell_type": "code",
   "execution_count": 26,
   "metadata": {
    "collapsed": false
   },
   "outputs": [],
   "source": [
    "words_df.sort_values('count',ascending=False,inplace=True)"
   ]
  },
  {
   "cell_type": "code",
   "execution_count": 27,
   "metadata": {
    "collapsed": false
   },
   "outputs": [
    {
     "name": "stdout",
     "output_type": "stream",
     "text": [
      "29                     steam\n",
      "3                  available\n",
      "56                      time\n",
      "55                   pacific\n",
      "54                      10am\n",
      "52                      ends\n",
      "59                      save\n",
      "127                     game\n",
      "62                     deals\n",
      "58                      deal\n",
      "23                      page\n",
      "57                    todays\n",
      "64                    follow\n",
      "63                     front\n",
      "67                   instant\n",
      "68             notifications\n",
      "65                   twitter\n",
      "66                  facebook\n",
      "69                  wherever\n",
      "70              are\\n\\noffer\n",
      "310                    world\n",
      "61                  \\n\\nlook\n",
      "88                     games\n",
      "226                     play\n",
      "151                   monday\n",
      "76                     weeks\n",
      "26                   content\n",
      "258                     free\n",
      "1176                    pack\n",
      "1039                    sale\n",
      "                ...         \n",
      "13286      decisions\\n\\nwill\n",
      "13287               strange™\n",
      "13288          steam\\n\\nlife\n",
      "13289    steam\\n\\noriginally\n",
      "13290                   2005\n",
      "13291                  uncut\n",
      "13270        off\\n\\napotheon\n",
      "13268      access\\n\\ndarkest\n",
      "5439                   roads\n",
      "13267           xxl\\n\\noffer\n",
      "13243      inventory\\n\\nwith\n",
      "13245               tradable\n",
      "13246               sellable\n",
      "13247                recipes\n",
      "13248          items\\n\\nthis\n",
      "13249             peertopeer\n",
      "5436                   lella\n",
      "13251                overlay\n",
      "13253           townplanning\n",
      "13255                offices\n",
      "5433                 aurelia\n",
      "5431         demons\\n\\noffer\n",
      "13258              pollution\n",
      "13259             ecological\n",
      "13260            parkandride\n",
      "5430              cartwheels\n",
      "13262                greener\n",
      "13263     approach\\n\\nmanage\n",
      "5429                  blasts\n",
      "21442                onehour\n",
      "Name: words, dtype: object\n"
     ]
    }
   ],
   "source": [
    "print(words_df['words'])"
   ]
  },
  {
   "cell_type": "code",
   "execution_count": 28,
   "metadata": {
    "collapsed": false
   },
   "outputs": [
    {
     "data": {
      "image/png": "[encoded data removed]",
      "text/plain": [
       "<matplotlib.figure.Figure at 0x121691cf8>"
      ]
     },
     "metadata": {},
     "output_type": "display_data"
    }
   ],
   "source": [
    "words_df[words_df['count'] > 1000].plot(kind='bar',x='words')\n",
    "plt.xlabel('Words')\n",
    "plt.ylabel('# times words')\n",
    "plt.show()"
   ]
  },
  {
   "cell_type": "code",
   "execution_count": null,
   "metadata": {
    "collapsed": false
   },
   "outputs": [],
   "source": []
  },
  {
   "cell_type": "code",
   "execution_count": null,
   "metadata": {
    "collapsed": true
   },
   "outputs": [],
   "source": []
  },
  {
   "cell_type": "code",
   "execution_count": null,
   "metadata": {
    "collapsed": true
   },
   "outputs": [],
   "source": []
  },
  {
   "cell_type": "code",
   "execution_count": null,
   "metadata": {
    "collapsed": true
   },
   "outputs": [],
   "source": []
  }
 ],
 "metadata": {
  "kernelspec": {
   "display_name": "Python 3",
   "language": "python",
   "name": "python3"
  },
  "language_info": {
   "codemirror_mode": {
    "name": "ipython",
    "version": 3
   },
   "file_extension": ".py",
   "mimetype": "text/x-python",
   "name": "python",
   "nbconvert_exporter": "python",
   "pygments_lexer": "ipython3",
   "version": "3.6.0"
  }
 },
 "nbformat": 4,
 "nbformat_minor": 2
}
